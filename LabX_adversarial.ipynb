{
 "cells": [
  {
   "cell_type": "code",
   "execution_count": null,
   "metadata": {
    "colab": {
     "base_uri": "https://localhost:8080/"
    },
    "executionInfo": {
     "elapsed": 10446,
     "status": "ok",
     "timestamp": 1740042629246,
     "user": {
      "displayName": "Luiz Chamon",
      "userId": "05727507017216075476"
     },
     "user_tz": -60
    },
    "id": "401TnnoOMrgo",
    "outputId": "15958e57-ba03-4edb-e65f-60e23925ca76"
   },
   "outputs": [],
   "source": [
    "import numpy as np\n",
    "import matplotlib.pyplot as plt\n",
    "import torch\n",
    "import multiprocessing\n",
    "import torch.nn as nn\n",
    "\n",
    "!pip install --no-deps git+https://github.com/lfochamon/labx.git\n",
    "import labx"
   ]
  },
  {
   "cell_type": "code",
   "execution_count": null,
   "metadata": {
    "colab": {
     "base_uri": "https://localhost:8080/"
    },
    "executionInfo": {
     "elapsed": 31,
     "status": "ok",
     "timestamp": 1740042629297,
     "user": {
      "displayName": "Luiz Chamon",
      "userId": "05727507017216075476"
     },
     "user_tz": -60
    },
    "id": "5v4Q3k09znyz",
    "outputId": "6ef363c9-0d18-401a-b0ee-e94ee3b11c0f"
   },
   "outputs": [],
   "source": [
    "# If you have a GPU installed and configured correctly, this code will allow the use of gpu\n",
    "device = torch.device(\"cuda:0\" if torch.cuda.is_available() else \"cpu\")\n",
    "\n",
    "if torch.cuda.is_available():\n",
    "    print(f\"Using GPU: {torch.cuda.get_device_name(0)}\")\n",
    "    batch_size = 128\n",
    "    pin_memory = True\n",
    "else:\n",
    "    print(\"No GPU found, running on CPU.\")\n",
    "    batch_size = 32\n",
    "    pin_memory = False"
   ]
  },
  {
   "cell_type": "code",
   "execution_count": null,
   "metadata": {
    "colab": {
     "base_uri": "https://localhost:8080/"
    },
    "executionInfo": {
     "elapsed": 4223,
     "status": "ok",
     "timestamp": 1740042633524,
     "user": {
      "displayName": "Luiz Chamon",
      "userId": "05727507017216075476"
     },
     "user_tz": -60
    },
    "id": "J9DQs7q-Mrgz",
    "outputId": "eb7b01de-6f06-4313-f607-985b94e8ff3e"
   },
   "outputs": [],
   "source": [
    "# Dowloading the dataset\n",
    "from torchvision import datasets, transforms\n",
    "from torch.utils.data import DataLoader\n",
    "\n",
    "CIFAR10_MEAN = (0.4914, 0.4822, 0.4465)\n",
    "CIFAR10_STD = (0.2023, 0.1994, 0.2010)\n",
    "CIFAR10_LABELS = [\n",
    "    \"airplane\",\n",
    "    \"automobile\",\n",
    "    \"bird\",\n",
    "    \"cat\",\n",
    "    \"deer\",\n",
    "    \"dog\",\n",
    "    \"frog\",\n",
    "    \"horse\",\n",
    "    \"ship\",\n",
    "    \"truck\",\n",
    "]\n",
    "\n",
    "# Define transforms for the training and testing datasets\n",
    "transform = transforms.Compose(\n",
    "    [\n",
    "        transforms.ToTensor(),\n",
    "        transforms.Normalize(CIFAR10_MEAN, CIFAR10_STD),\n",
    "    ]\n",
    ")\n",
    "\n",
    "# Load CIFAR-10 dataset\n",
    "train_dataset = datasets.CIFAR10(root=\"./data\", train=True, download=True, transform=transform)\n",
    "test_dataset = datasets.CIFAR10(root=\"./data\", train=False, download=True, transform=transform)\n",
    "\n",
    "# Create data loaders\n",
    "train_loader = DataLoader(\n",
    "    train_dataset,\n",
    "    batch_size=batch_size,\n",
    "    shuffle=True,\n",
    "    num_workers=multiprocessing.cpu_count(),\n",
    "    pin_memory=pin_memory,\n",
    ")\n",
    "test_loader = DataLoader(\n",
    "    test_dataset,\n",
    "    batch_size=batch_size,\n",
    "    shuffle=False,\n",
    "    num_workers=multiprocessing.cpu_count(),\n",
    "    pin_memory=pin_memory,\n",
    ")\n",
    "\n",
    "\n",
    "# Unnormalize data\n",
    "def unnormalize(x):\n",
    "    std = torch.tensor([[CIFAR10_STD]]).reshape((3, 1, 1))\n",
    "    mean = torch.tensor([[CIFAR10_MEAN]]).reshape(3, 1, 1)\n",
    "    return torch.clamp(x * std + mean, 0, 1)"
   ]
  },
  {
   "cell_type": "code",
   "execution_count": null,
   "metadata": {
    "executionInfo": {
     "elapsed": 605,
     "status": "ok",
     "timestamp": 1740042634132,
     "user": {
      "displayName": "Luiz Chamon",
      "userId": "05727507017216075476"
     },
     "user_tz": -60
    },
    "id": "M3kX1_FKMrhF"
   },
   "outputs": [],
   "source": [
    "# Create model instance\n",
    "model = labx.resnet18(pretrained=True, device=device)"
   ]
  },
  {
   "cell_type": "code",
   "execution_count": null,
   "metadata": {
    "colab": {
     "base_uri": "https://localhost:8080/"
    },
    "executionInfo": {
     "elapsed": 6045,
     "status": "ok",
     "timestamp": 1740042640181,
     "user": {
      "displayName": "Luiz Chamon",
      "userId": "05727507017216075476"
     },
     "user_tz": -60
    },
    "id": "MuVFoO5lb9DZ",
    "outputId": "e704ee51-b430-4be5-dd3a-d131d4c851e5"
   },
   "outputs": [],
   "source": [
    "def accuracy(model):\n",
    "\n",
    "    model.eval()\n",
    "    val_loss = 0.0\n",
    "    val_acc = 0\n",
    "    total_val = 0\n",
    "\n",
    "    with torch.no_grad():\n",
    "        for inputs, targets in test_loader:\n",
    "            inputs, targets = inputs.to(device), targets.to(device)\n",
    "\n",
    "            outputs = model(inputs)\n",
    "            _, preds = outputs.max(dim=1)\n",
    "            total_val += targets.size(dim=0)\n",
    "            val_acc += preds.eq(targets).sum().item()\n",
    "\n",
    "    val_loss /= total_val\n",
    "    val_acc = val_acc / total_val\n",
    "\n",
    "    print(f\"Test acc: {100*val_acc:.2f}%\")\n",
    "\n",
    "\n",
    "accuracy(model)"
   ]
  },
  {
   "cell_type": "code",
   "execution_count": null,
   "metadata": {
    "executionInfo": {
     "elapsed": 4,
     "status": "ok",
     "timestamp": 1740043579967,
     "user": {
      "displayName": "Luiz Chamon",
      "userId": "05727507017216075476"
     },
     "user_tz": -60
    },
    "id": "53id26_uN_7f"
   },
   "outputs": [],
   "source": [
    "def attack(model, input, target, epsilon, eta, iterations):\n",
    "    epsilon, eta = 2.5 * epsilon, 2.5 * eta\n",
    "\n",
    "    # Define the loss function\n",
    "    criterion = nn.CrossEntropyLoss()\n",
    "\n",
    "    # Store the history\n",
    "    history = {\"train_loss\": [], \"train_acc\": []}\n",
    "\n",
    "    model.eval()\n",
    "    input.requires_grad = False\n",
    "    target.requires_grad = False\n",
    "\n",
    "    mod_input = input.clone() + epsilon * (2 * torch.rand_like(input) - 1)\n",
    "    for _ in range(iterations):\n",
    "        mod_input.grad = None\n",
    "        mod_input = mod_input.detach()\n",
    "        mod_input.requires_grad = True\n",
    "\n",
    "        output = model(mod_input)\n",
    "        loss = criterion(output, target)\n",
    "        loss.backward()\n",
    "\n",
    "        mod_input = mod_input + eta * mod_input.grad.sign()\n",
    "        mod_input = input + torch.clamp(mod_input - input, -epsilon, epsilon)\n",
    "\n",
    "        _, pred = output.max(1)\n",
    "\n",
    "        history[\"train_loss\"].append(loss.item())\n",
    "        history[\"train_acc\"].append(pred.eq(target))\n",
    "\n",
    "    return mod_input, history"
   ]
  },
  {
   "cell_type": "code",
   "execution_count": null,
   "metadata": {
    "colab": {
     "base_uri": "https://localhost:8080/",
     "height": 521
    },
    "executionInfo": {
     "elapsed": 3612,
     "status": "ok",
     "timestamp": 1740044314241,
     "user": {
      "displayName": "Luiz Chamon",
      "userId": "05727507017216075476"
     },
     "user_tz": -60
    },
    "id": "6TEcp6pib9Db",
    "outputId": "e98d2127-70c6-4c70-99a6-ca88fd032402"
   },
   "outputs": [],
   "source": [
    "fig, axes = plt.subplots(3, 7, figsize=(17, 6))\n",
    "\n",
    "for n, idx in enumerate(np.random.randint(0, len(test_dataset), 7)):\n",
    "    input, target = test_dataset[idx]\n",
    "    input, target = input.to(device), torch.tensor([target], device=device)\n",
    "\n",
    "    mod_input, _ = attack(\n",
    "        model, input.unsqueeze(0), target, epsilon=0.03, eta=0.03 / 20, iterations=50\n",
    "    )\n",
    "    mod_input = mod_input.detach()\n",
    "\n",
    "    output = model(input.unsqueeze(0))\n",
    "    _, pred = output.max(1)\n",
    "\n",
    "    output = model(mod_input)\n",
    "    _, mod_pred = output.max(1)\n",
    "\n",
    "    input_img = unnormalize(input.to(\"cpu\")).movedim(0, 2)\n",
    "    axes[0, n].imshow(input_img)\n",
    "    _ = axes[0, n].set_title(CIFAR10_LABELS[pred])\n",
    "\n",
    "    mod_input_img = unnormalize(mod_input.to(\"cpu\").squeeze()).movedim(0, 2)\n",
    "    axes[1, n].imshow(mod_input_img)\n",
    "    _ = axes[1, n].set_title(CIFAR10_LABELS[mod_pred])\n",
    "\n",
    "    difference = (input_img - mod_input_img).abs()\n",
    "    axes[2, n].imshow(difference / difference.max())\n",
    "    _ = axes[2, n].set_title(\"Difference\")\n",
    "\n",
    "for ax in axes.flatten():\n",
    "    ax.axis(\"off\")"
   ]
  },
  {
   "cell_type": "code",
   "execution_count": null,
   "metadata": {
    "colab": {
     "base_uri": "https://localhost:8080/"
    },
    "executionInfo": {
     "elapsed": 176390,
     "status": "ok",
     "timestamp": 1740044101306,
     "user": {
      "displayName": "Luiz Chamon",
      "userId": "05727507017216075476"
     },
     "user_tz": -60
    },
    "id": "NSeRmkocb9Db",
    "outputId": "6fc94550-bebf-459d-ad2d-9e977fec74cf"
   },
   "outputs": [],
   "source": [
    "def robustness(model):\n",
    "\n",
    "    model.eval()\n",
    "    val_loss = 0.0\n",
    "    val_acc = 0\n",
    "    total_val = 0\n",
    "\n",
    "    for inputs, targets in test_loader:\n",
    "        inputs, targets = inputs.to(device), targets.to(device)\n",
    "        mod_inputs, _ = attack(model, inputs, targets, epsilon=0.03, eta=0.03 / 20, iterations=50)\n",
    "\n",
    "        with torch.no_grad():\n",
    "            outputs = model(mod_inputs)\n",
    "            _, preds = outputs.max(dim=1)\n",
    "            total_val += targets.size(dim=0)\n",
    "            val_acc += preds.eq(targets).sum().item()\n",
    "\n",
    "    val_loss /= total_val\n",
    "    val_acc = val_acc / total_val\n",
    "\n",
    "    print(f\"Robust acc: {100*val_acc:.2f}%\")\n",
    "\n",
    "\n",
    "robustness(model)"
   ]
  },
  {
   "cell_type": "code",
   "execution_count": null,
   "metadata": {
    "colab": {
     "base_uri": "https://localhost:8080/"
    },
    "executionInfo": {
     "elapsed": 309986,
     "status": "ok",
     "timestamp": 1740044655927,
     "user": {
      "displayName": "Luiz Chamon",
      "userId": "05727507017216075476"
     },
     "user_tz": -60
    },
    "id": "4cgBaaj_7CEV",
    "outputId": "bdbcb09f-c93e-4c73-af67-074961415141"
   },
   "outputs": [],
   "source": [
    "optimizer = torch.optim.SGD(model.parameters(), lr=1e-3)\n",
    "criterion = nn.CrossEntropyLoss()\n",
    "\n",
    "epochs = 3\n",
    "for epoch in range(epochs):\n",
    "    train_loss = 0.0\n",
    "    train_acc = 0\n",
    "    total_train = 0\n",
    "\n",
    "    for inputs, targets in train_loader:\n",
    "        inputs, targets = inputs.to(device), targets.to(device)\n",
    "\n",
    "        mod_inputs, _ = attack(model, inputs, targets, epsilon=0.03, eta=0.01, iterations=5)\n",
    "        mod_inputs = mod_inputs.detach()\n",
    "        mod_inputs.requires_grad = False\n",
    "        model.train()\n",
    "\n",
    "        optimizer.zero_grad()\n",
    "        outputs = model(mod_inputs)\n",
    "        loss = criterion(outputs, targets)\n",
    "        loss.backward()\n",
    "        optimizer.step()\n",
    "\n",
    "        train_loss += loss.item() * inputs.size(0)\n",
    "        _, preds = outputs.max(1)\n",
    "        total_train += targets.size(0)\n",
    "        train_acc += preds.eq(targets).sum().item()\n",
    "\n",
    "    train_loss /= total_train\n",
    "    train_acc = train_acc / total_train\n",
    "\n",
    "    print(\n",
    "        f\"Epoch {epoch+1}/{epochs} - Train Loss: {train_loss:.4f}  Train Acc: {100*train_acc:.2f}%\"\n",
    "    )"
   ]
  },
  {
   "cell_type": "code",
   "execution_count": null,
   "metadata": {
    "colab": {
     "base_uri": "https://localhost:8080/"
    },
    "id": "dSWNPegNb9Dc",
    "outputId": "a6b75af3-b8be-4669-ee24-64f814fc1330"
   },
   "outputs": [],
   "source": [
    "accuracy(model)\n",
    "robustness(model)"
   ]
  }
 ],
 "metadata": {
  "accelerator": "GPU",
  "anaconda-cloud": {},
  "colab": {
   "gpuType": "T4",
   "provenance": []
  },
  "kernelspec": {
   "display_name": "pytorch",
   "language": "python",
   "name": "python3"
  },
  "language_info": {
   "codemirror_mode": {
    "name": "ipython",
    "version": 3
   },
   "file_extension": ".py",
   "mimetype": "text/x-python",
   "name": "python",
   "nbconvert_exporter": "python",
   "pygments_lexer": "ipython3",
   "version": "3.11.6"
  }
 },
 "nbformat": 4,
 "nbformat_minor": 0
}
